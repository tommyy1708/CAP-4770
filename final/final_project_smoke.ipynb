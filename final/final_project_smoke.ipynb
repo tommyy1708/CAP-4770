{
 "cells": [
  {
   "cell_type": "code",
   "execution_count": 1,
   "id": "92c1e3d0-b3b0-4483-a7fe-ddf87fe14a2f",
   "metadata": {
    "tags": []
   },
   "outputs": [
    {
     "data": {
      "text/html": [
       "<div>\n",
       "<style scoped>\n",
       "    .dataframe tbody tr th:only-of-type {\n",
       "        vertical-align: middle;\n",
       "    }\n",
       "\n",
       "    .dataframe tbody tr th {\n",
       "        vertical-align: top;\n",
       "    }\n",
       "\n",
       "    .dataframe thead th {\n",
       "        text-align: right;\n",
       "    }\n",
       "</style>\n",
       "<table border=\"1\" class=\"dataframe\">\n",
       "  <thead>\n",
       "    <tr style=\"text-align: right;\">\n",
       "      <th></th>\n",
       "      <th>gender</th>\n",
       "      <th>age</th>\n",
       "      <th>marital_status</th>\n",
       "      <th>highest_qualification</th>\n",
       "      <th>nationality</th>\n",
       "      <th>ethnicity</th>\n",
       "      <th>gross_income</th>\n",
       "      <th>region</th>\n",
       "      <th>smoke</th>\n",
       "      <th>amt_weekends</th>\n",
       "      <th>amt_weekdays</th>\n",
       "      <th>type</th>\n",
       "    </tr>\n",
       "  </thead>\n",
       "  <tbody>\n",
       "    <tr>\n",
       "      <th>0</th>\n",
       "      <td>Male</td>\n",
       "      <td>38</td>\n",
       "      <td>Divorced</td>\n",
       "      <td>No Qualification</td>\n",
       "      <td>British</td>\n",
       "      <td>White</td>\n",
       "      <td>2,600 to 5,200</td>\n",
       "      <td>The North</td>\n",
       "      <td>False</td>\n",
       "      <td>0.0</td>\n",
       "      <td>0.0</td>\n",
       "      <td>NaN</td>\n",
       "    </tr>\n",
       "    <tr>\n",
       "      <th>1</th>\n",
       "      <td>Female</td>\n",
       "      <td>42</td>\n",
       "      <td>Single</td>\n",
       "      <td>No Qualification</td>\n",
       "      <td>British</td>\n",
       "      <td>White</td>\n",
       "      <td>Under 2,600</td>\n",
       "      <td>The North</td>\n",
       "      <td>True</td>\n",
       "      <td>12.0</td>\n",
       "      <td>12.0</td>\n",
       "      <td>Packets</td>\n",
       "    </tr>\n",
       "    <tr>\n",
       "      <th>2</th>\n",
       "      <td>Male</td>\n",
       "      <td>40</td>\n",
       "      <td>Married</td>\n",
       "      <td>Degree</td>\n",
       "      <td>English</td>\n",
       "      <td>White</td>\n",
       "      <td>28,600 to 36,400</td>\n",
       "      <td>The North</td>\n",
       "      <td>False</td>\n",
       "      <td>0.0</td>\n",
       "      <td>0.0</td>\n",
       "      <td>NaN</td>\n",
       "    </tr>\n",
       "    <tr>\n",
       "      <th>3</th>\n",
       "      <td>Female</td>\n",
       "      <td>40</td>\n",
       "      <td>Married</td>\n",
       "      <td>Degree</td>\n",
       "      <td>English</td>\n",
       "      <td>White</td>\n",
       "      <td>10,400 to 15,600</td>\n",
       "      <td>The North</td>\n",
       "      <td>False</td>\n",
       "      <td>0.0</td>\n",
       "      <td>0.0</td>\n",
       "      <td>NaN</td>\n",
       "    </tr>\n",
       "    <tr>\n",
       "      <th>4</th>\n",
       "      <td>Female</td>\n",
       "      <td>39</td>\n",
       "      <td>Married</td>\n",
       "      <td>GCSE/O Level</td>\n",
       "      <td>British</td>\n",
       "      <td>White</td>\n",
       "      <td>2,600 to 5,200</td>\n",
       "      <td>The North</td>\n",
       "      <td>False</td>\n",
       "      <td>0.0</td>\n",
       "      <td>0.0</td>\n",
       "      <td>NaN</td>\n",
       "    </tr>\n",
       "  </tbody>\n",
       "</table>\n",
       "</div>"
      ],
      "text/plain": [
       "   gender  age marital_status highest_qualification nationality ethnicity  \\\n",
       "0    Male   38       Divorced      No Qualification     British     White   \n",
       "1  Female   42         Single      No Qualification     British     White   \n",
       "2    Male   40        Married                Degree     English     White   \n",
       "3  Female   40        Married                Degree     English     White   \n",
       "4  Female   39        Married          GCSE/O Level     British     White   \n",
       "\n",
       "       gross_income     region  smoke  amt_weekends  amt_weekdays     type  \n",
       "0    2,600 to 5,200  The North  False           0.0           0.0      NaN  \n",
       "1       Under 2,600  The North   True          12.0          12.0  Packets  \n",
       "2  28,600 to 36,400  The North  False           0.0           0.0      NaN  \n",
       "3  10,400 to 15,600  The North  False           0.0           0.0      NaN  \n",
       "4    2,600 to 5,200  The North  False           0.0           0.0      NaN  "
      ]
     },
     "execution_count": 1,
     "metadata": {},
     "output_type": "execute_result"
    }
   ],
   "source": [
    "import pandas as pd \n",
    "from sklearn.preprocessing import OneHotEncoder\n",
    "from mlxtend.frequent_patterns import apriori, association_rules\n",
    "\n",
    "# Load the dataset\n",
    "data = pd.read_csv('smoking1.csv')\n",
    "\n",
    "# Convert 'smoke' column to Boolean\n",
    "data['smoke'] = data['smoke'].map({'Yes': True, 'No': False})\n",
    "\n",
    "# Handle missing values\n",
    "data['amt_weekends'].fillna(0, inplace=True)\n",
    "data['amt_weekdays'].fillna(0, inplace=True)\n",
    "data.head()"
   ]
  },
  {
   "cell_type": "code",
   "execution_count": 2,
   "id": "d8eba92d-813e-4a8f-8554-60b451d10e68",
   "metadata": {
    "tags": []
   },
   "outputs": [
    {
     "data": {
      "text/html": [
       "<div>\n",
       "<style scoped>\n",
       "    .dataframe tbody tr th:only-of-type {\n",
       "        vertical-align: middle;\n",
       "    }\n",
       "\n",
       "    .dataframe tbody tr th {\n",
       "        vertical-align: top;\n",
       "    }\n",
       "\n",
       "    .dataframe thead th {\n",
       "        text-align: right;\n",
       "    }\n",
       "</style>\n",
       "<table border=\"1\" class=\"dataframe\">\n",
       "  <thead>\n",
       "    <tr style=\"text-align: right;\">\n",
       "      <th></th>\n",
       "      <th>gender</th>\n",
       "      <th>age</th>\n",
       "      <th>marital_status</th>\n",
       "      <th>highest_qualification</th>\n",
       "      <th>nationality</th>\n",
       "      <th>ethnicity</th>\n",
       "      <th>gross_income</th>\n",
       "      <th>region</th>\n",
       "      <th>smoke</th>\n",
       "      <th>amt_weekends</th>\n",
       "      <th>amt_weekdays</th>\n",
       "      <th>type</th>\n",
       "      <th>total_weekly_smoking</th>\n",
       "      <th>smoking_intensity</th>\n",
       "    </tr>\n",
       "  </thead>\n",
       "  <tbody>\n",
       "    <tr>\n",
       "      <th>0</th>\n",
       "      <td>Male</td>\n",
       "      <td>38</td>\n",
       "      <td>Divorced</td>\n",
       "      <td>No Qualification</td>\n",
       "      <td>British</td>\n",
       "      <td>White</td>\n",
       "      <td>2,600 to 5,200</td>\n",
       "      <td>The North</td>\n",
       "      <td>False</td>\n",
       "      <td>0.0</td>\n",
       "      <td>0.0</td>\n",
       "      <td>NaN</td>\n",
       "      <td>0.0</td>\n",
       "      <td>Non-Smoker</td>\n",
       "    </tr>\n",
       "    <tr>\n",
       "      <th>1</th>\n",
       "      <td>Female</td>\n",
       "      <td>42</td>\n",
       "      <td>Single</td>\n",
       "      <td>No Qualification</td>\n",
       "      <td>British</td>\n",
       "      <td>White</td>\n",
       "      <td>Under 2,600</td>\n",
       "      <td>The North</td>\n",
       "      <td>True</td>\n",
       "      <td>12.0</td>\n",
       "      <td>12.0</td>\n",
       "      <td>Packets</td>\n",
       "      <td>24.0</td>\n",
       "      <td>Heavy Smoker</td>\n",
       "    </tr>\n",
       "    <tr>\n",
       "      <th>2</th>\n",
       "      <td>Male</td>\n",
       "      <td>40</td>\n",
       "      <td>Married</td>\n",
       "      <td>Degree</td>\n",
       "      <td>English</td>\n",
       "      <td>White</td>\n",
       "      <td>28,600 to 36,400</td>\n",
       "      <td>The North</td>\n",
       "      <td>False</td>\n",
       "      <td>0.0</td>\n",
       "      <td>0.0</td>\n",
       "      <td>NaN</td>\n",
       "      <td>0.0</td>\n",
       "      <td>Non-Smoker</td>\n",
       "    </tr>\n",
       "    <tr>\n",
       "      <th>3</th>\n",
       "      <td>Female</td>\n",
       "      <td>40</td>\n",
       "      <td>Married</td>\n",
       "      <td>Degree</td>\n",
       "      <td>English</td>\n",
       "      <td>White</td>\n",
       "      <td>10,400 to 15,600</td>\n",
       "      <td>The North</td>\n",
       "      <td>False</td>\n",
       "      <td>0.0</td>\n",
       "      <td>0.0</td>\n",
       "      <td>NaN</td>\n",
       "      <td>0.0</td>\n",
       "      <td>Non-Smoker</td>\n",
       "    </tr>\n",
       "    <tr>\n",
       "      <th>4</th>\n",
       "      <td>Female</td>\n",
       "      <td>39</td>\n",
       "      <td>Married</td>\n",
       "      <td>GCSE/O Level</td>\n",
       "      <td>British</td>\n",
       "      <td>White</td>\n",
       "      <td>2,600 to 5,200</td>\n",
       "      <td>The North</td>\n",
       "      <td>False</td>\n",
       "      <td>0.0</td>\n",
       "      <td>0.0</td>\n",
       "      <td>NaN</td>\n",
       "      <td>0.0</td>\n",
       "      <td>Non-Smoker</td>\n",
       "    </tr>\n",
       "  </tbody>\n",
       "</table>\n",
       "</div>"
      ],
      "text/plain": [
       "   gender  age marital_status highest_qualification nationality ethnicity  \\\n",
       "0    Male   38       Divorced      No Qualification     British     White   \n",
       "1  Female   42         Single      No Qualification     British     White   \n",
       "2    Male   40        Married                Degree     English     White   \n",
       "3  Female   40        Married                Degree     English     White   \n",
       "4  Female   39        Married          GCSE/O Level     British     White   \n",
       "\n",
       "       gross_income     region  smoke  amt_weekends  amt_weekdays     type  \\\n",
       "0    2,600 to 5,200  The North  False           0.0           0.0      NaN   \n",
       "1       Under 2,600  The North   True          12.0          12.0  Packets   \n",
       "2  28,600 to 36,400  The North  False           0.0           0.0      NaN   \n",
       "3  10,400 to 15,600  The North  False           0.0           0.0      NaN   \n",
       "4    2,600 to 5,200  The North  False           0.0           0.0      NaN   \n",
       "\n",
       "   total_weekly_smoking smoking_intensity  \n",
       "0                   0.0        Non-Smoker  \n",
       "1                  24.0      Heavy Smoker  \n",
       "2                   0.0        Non-Smoker  \n",
       "3                   0.0        Non-Smoker  \n",
       "4                   0.0        Non-Smoker  "
      ]
     },
     "execution_count": 2,
     "metadata": {},
     "output_type": "execute_result"
    }
   ],
   "source": [
    "\n",
    "# Calculate the total weekly smoking amount\n",
    "data['total_weekly_smoking'] = data['amt_weekends'] + data['amt_weekdays']\n",
    "\n",
    "# Define a function to categorize smoking intensity\n",
    "def categorize_smoking_intensity(row):\n",
    "    if row['total_weekly_smoking'] == 0:\n",
    "        return 'Non-Smoker'\n",
    "    elif 1 <= row['total_weekly_smoking'] <= 10:\n",
    "        return 'Light Smoker'\n",
    "    elif 11 <= row['total_weekly_smoking'] <= 20:\n",
    "        return 'Moderate Smoker'\n",
    "    else:\n",
    "        return 'Heavy Smoker'\n",
    "\n",
    "# Apply the function to create the new 'smoking_intensity' column\n",
    "data['smoking_intensity'] = data.apply(categorize_smoking_intensity, axis=1)\n",
    "# data_original stored for testing for compare result\n",
    "# data_original = data\n",
    "data.head()"
   ]
  },
  {
   "cell_type": "code",
   "execution_count": 3,
   "id": "20af1a38-d181-4ebb-baea-e62469165b73",
   "metadata": {
    "tags": []
   },
   "outputs": [],
   "source": [
    "# Filtering tags below for to better performance. \n",
    "data = data.drop(columns=[\"age\", \"amt_weekends\", \"amt_weekdays\",\"type\",\"total_weekly_smoking\"])"
   ]
  },
  {
   "cell_type": "code",
   "execution_count": 4,
   "id": "0aae508e-620d-4082-83e7-0a6325631f57",
   "metadata": {
    "tags": []
   },
   "outputs": [
    {
     "name": "stdout",
     "output_type": "stream",
     "text": [
      "                                                               antecedents  \\\n",
      "54                           (nationality_English, marital_status_Married)   \n",
      "79                     (nationality_English, smoking_intensity_Non-Smoker)   \n",
      "22                                                   (nationality_English)   \n",
      "42                                      (gender_Male, nationality_English)   \n",
      "30                                                      (region_The North)   \n",
      "73  (highest_qualification_No Qualification, smoking_intensity_Non-Smoker)   \n",
      "18                                (highest_qualification_No Qualification)   \n",
      "0                                                                  (smoke)   \n",
      "27                                          (gross_income_5,200 to 10,400)   \n",
      "33                                          (smoking_intensity_Non-Smoker)   \n",
      "\n",
      "          consequents   support  confidence  \n",
      "54  (ethnicity_White)  0.231224    0.975062  \n",
      "79  (ethnicity_White)  0.363690    0.974643  \n",
      "22  (ethnicity_White)  0.479598    0.973589  \n",
      "42  (ethnicity_White)  0.203430    0.963585  \n",
      "30  (ethnicity_White)  0.241277    0.957746  \n",
      "73  (ethnicity_White)  0.247782    0.931111  \n",
      "18  (ethnicity_White)  0.322295    0.930034  \n",
      "0   (ethnicity_White)  0.230633    0.926366  \n",
      "27  (ethnicity_White)  0.215849    0.921717  \n",
      "33  (ethnicity_White)  0.692490    0.921322  \n",
      "84\n"
     ]
    }
   ],
   "source": [
    "# One-hot encoding using pd.get_dummies for simplicity\n",
    "# Including 'smoking_intensity' and other categorical variables that need to be one-hot encoded\n",
    "#data_encoded = pd.get_dummies(data.drop(columns=['total_weekly_smoking']), drop_first=True)\n",
    "data_encoded = pd.get_dummies(data, drop_first=True)\n",
    "\n",
    "# data_original_encoded stored for testing for compare result\n",
    "# data_original_encoded = pd.get_dummies(data_original, drop_first=True)\n",
    "\n",
    "# Apply the Apriori algorithm on the encoded DataFrame\n",
    "frequent_itemsets = apriori(data_encoded.astype(bool), min_support=0.2, use_colnames=True)\n",
    "\n",
    "# Generate association rules\n",
    "rules = association_rules(frequent_itemsets, metric=\"confidence\", min_threshold=0.2)\n",
    "\n",
    "# Display whole content of row\n",
    "pd.set_option('display.max_colwidth', None)\n",
    "\n",
    "# Display the rules sorted by confidence\n",
    "#print(rules[['antecedents', 'consequents', 'support', 'confidence']].sort_values(by='support', ascending=False)[:10])\n",
    "print(rules[['antecedents', 'consequents', 'support', 'confidence']].sort_values(by='confidence',ascending=False)[:10])\n",
    "print(len(rules))"
   ]
  },
  {
   "cell_type": "code",
   "execution_count": 5,
   "id": "74037edb-0855-4ced-ab6f-e6e02290e237",
   "metadata": {
    "tags": []
   },
   "outputs": [
    {
     "name": "stdout",
     "output_type": "stream",
     "text": [
      "         antecedents consequents   support  confidence\n",
      "1  (ethnicity_White)     (smoke)  0.230633        0.25\n",
      "total= 1\n"
     ]
    }
   ],
   "source": [
    "# Filter for rules where the consequent is exactly 'smoke' or 'smoke_True'\n",
    "# Adjust the string based on how smoking is represented in your encoded DataFrame\n",
    "rules_with_smoke_as_consequent = rules[rules['consequents'] == {'smoke'}]  \n",
    "\n",
    "# Display the filtered rules\n",
    "print(rules_with_smoke_as_consequent[['antecedents', 'consequents', 'support', 'confidence']].sort_values(by='confidence', ascending=False))\n",
    "print('total=',len(rules_with_smoke_as_consequent))"
   ]
  },
  {
   "cell_type": "code",
   "execution_count": 6,
   "id": "ca9f091b-24ca-47df-a9c4-337b7fe1408e",
   "metadata": {
    "tags": []
   },
   "outputs": [
    {
     "name": "stdout",
     "output_type": "stream",
     "text": [
      "Most frequently appearing items in antecedents:\n",
      "ethnicity_White: 31\n",
      "smoking_intensity_Non-Smoker: 21\n",
      "marital_status_Married: 16\n",
      "nationality_English: 16\n",
      "gender_Male: 13\n",
      "highest_qualification_No Qualification: 5\n",
      "region_Midlands & East Anglia: 2\n",
      "smoke: 1\n",
      "marital_status_Single: 1\n",
      "gross_income_5,200 to 10,400: 1\n"
     ]
    }
   ],
   "source": [
    "from collections import defaultdict\n",
    "\n",
    "# Initialize a dictionary to count occurrences of each item in antecedents\n",
    "item_counts = defaultdict(int)\n",
    "\n",
    "# Iterate over each row in the rules DataFrame\n",
    "for index, row in rules.iterrows():\n",
    "    # Update the count for each item found in the antecedents of this rule\n",
    "    for item in row['antecedents']:\n",
    "        item_counts[item] += 1\n",
    "\n",
    "# Convert the dictionary to a list of (item, count) tuples and sort it by count in descending order\n",
    "sorted_item_counts = sorted(item_counts.items(), key=lambda x: x[1], reverse=True)\n",
    "\n",
    "# Display the most frequently appearing items in antecedents\n",
    "print(\"Most frequently appearing items in antecedents:\")\n",
    "for item, count in sorted_item_counts[:10]:  # Adjust the slice as needed to display more or fewer items\n",
    "    print(f\"{item}: {count}\")"
   ]
  },
  {
   "cell_type": "code",
   "execution_count": 7,
   "id": "def65993-f16e-41cb-8e63-56cc85967750",
   "metadata": {
    "tags": []
   },
   "outputs": [
    {
     "name": "stdout",
     "output_type": "stream",
     "text": [
      "Non-binary numeric columns: []\n",
      "                                                                                                     antecedents  \\\n",
      "135                                                                                            (region_Scotland)   \n",
      "19                                                                           (smoking_intensity_Moderate Smoker)   \n",
      "618                                                                      (region_Scotland, nationality_Scottish)   \n",
      "659                                                              (region_Scotland, smoking_intensity_Non-Smoker)   \n",
      "122                                                                                       (nationality_Scottish)   \n",
      "1269  (region_Midlands & East Anglia, nationality_English, marital_status_Married, smoking_intensity_Non-Smoker)   \n",
      "204                                                         (smoking_intensity_Moderate Smoker, ethnicity_White)   \n",
      "624                                                         (nationality_Scottish, smoking_intensity_Non-Smoker)   \n",
      "1058                (region_Midlands & East Anglia, highest_qualification_No Qualification, nationality_English)   \n",
      "568                                                           (nationality_English, gross_income_2,600 to 5,200)   \n",
      "\n",
      "            consequents   support  confidence  \n",
      "135   (ethnicity_White)  0.087522    1.000000  \n",
      "19              (smoke)  0.057954    1.000000  \n",
      "618   (ethnicity_White)  0.070373    1.000000  \n",
      "659   (ethnicity_White)  0.057363    1.000000  \n",
      "122   (ethnicity_White)  0.083974    1.000000  \n",
      "1269  (ethnicity_White)  0.064459    1.000000  \n",
      "204             (smoke)  0.051449    1.000000  \n",
      "624   (ethnicity_White)  0.057363    1.000000  \n",
      "1058  (ethnicity_White)  0.059137    1.000000  \n",
      "568   (ethnicity_White)  0.078652    0.992537  \n"
     ]
    }
   ],
   "source": [
    "non_binary_numeric_columns = []\n",
    "\n",
    "# Iterate through each column in the DataFrame\n",
    "for column in data_encoded.columns:\n",
    "    # Check if the column is of a numeric data type\n",
    "    if pd.api.types.is_numeric_dtype(data_encoded[column]):\n",
    "        # Count the number of unique values in the column\n",
    "        unique_values = data_encoded[column].nunique()\n",
    "        # If the number of unique values is more than 2, it's not a binary column\n",
    "        if unique_values > 2:\n",
    "            non_binary_numeric_columns.append(column)\n",
    "\n",
    "print(\"Non-binary numeric columns:\", non_binary_numeric_columns)\n",
    "\n",
    "\n",
    "# Exclude any non-binary numeric columns explicitly or transform them before this step\n",
    "data_for_apriori = data_encoded.drop(columns=non_binary_numeric_columns)  # Adjust column names as necessary\n",
    "\n",
    "# Convert the DataFrame to boolean type if not already\n",
    "data_for_apriori = data_for_apriori.astype(bool)\n",
    "\n",
    "frequent_itemsets = apriori(data_for_apriori, min_support=0.05, use_colnames=True)\n",
    "rules = association_rules(frequent_itemsets, metric=\"confidence\", min_threshold=0.2)\n",
    "\n",
    "print(rules[['antecedents', 'consequents', 'support', 'confidence']].sort_values(by='confidence', ascending=False)[:10])"
   ]
  },
  {
   "cell_type": "code",
   "execution_count": 8,
   "id": "78ff0cc4-cd32-4f44-831d-dfcfbd812ea6",
   "metadata": {
    "tags": []
   },
   "outputs": [],
   "source": [
    "# Supervised Learning\n",
    "# Method: classification\n",
    "# Model: Decision Tree{classification tree}\n",
    "# Algorithm:CART \n",
    "# CART:produces only binary trees, meaning trees where split nodes always have exactly two children (i.e., questions only have yes/no answers). \n",
    "#      However, ID3 can produce decision trees with nodes that have more than two children, since each node has as many\n",
    "#      splits/branches as there are categories. (Source: https://learning.oreilly.com/library/view/hands-on-machine-learning/9781492032632/)\n",
    "#      Moreover, CART uses Gini impurity and cross-entropy for split criterion in classification, while ID3 uses information gain. \n",
    "#      (Source: Machine Learning university course).\n",
    "# Step 1 : Data preparation \n",
    "# Based on Unsupervised Apriori analysis, select the features identified as relevant, such as 'ethnicity','nationality'\n",
    "from sklearn.model_selection import train_test_split\n",
    "X = data_encoded.drop('smoke', axis=1)\n",
    "y = data_encoded['smoke']  \n",
    "# Splitting the dataset\n",
    "X_train, X_test, y_train, y_test = train_test_split(X, y, test_size=0.2, random_state=42, stratify=y)"
   ]
  },
  {
   "cell_type": "code",
   "execution_count": 9,
   "id": "a4ff3a6a-bded-4318-94be-65711b7febd9",
   "metadata": {
    "tags": []
   },
   "outputs": [
    {
     "data": {
      "text/html": [
       "<style>#sk-container-id-1 {color: black;}#sk-container-id-1 pre{padding: 0;}#sk-container-id-1 div.sk-toggleable {background-color: white;}#sk-container-id-1 label.sk-toggleable__label {cursor: pointer;display: block;width: 100%;margin-bottom: 0;padding: 0.3em;box-sizing: border-box;text-align: center;}#sk-container-id-1 label.sk-toggleable__label-arrow:before {content: \"▸\";float: left;margin-right: 0.25em;color: #696969;}#sk-container-id-1 label.sk-toggleable__label-arrow:hover:before {color: black;}#sk-container-id-1 div.sk-estimator:hover label.sk-toggleable__label-arrow:before {color: black;}#sk-container-id-1 div.sk-toggleable__content {max-height: 0;max-width: 0;overflow: hidden;text-align: left;background-color: #f0f8ff;}#sk-container-id-1 div.sk-toggleable__content pre {margin: 0.2em;color: black;border-radius: 0.25em;background-color: #f0f8ff;}#sk-container-id-1 input.sk-toggleable__control:checked~div.sk-toggleable__content {max-height: 200px;max-width: 100%;overflow: auto;}#sk-container-id-1 input.sk-toggleable__control:checked~label.sk-toggleable__label-arrow:before {content: \"▾\";}#sk-container-id-1 div.sk-estimator input.sk-toggleable__control:checked~label.sk-toggleable__label {background-color: #d4ebff;}#sk-container-id-1 div.sk-label input.sk-toggleable__control:checked~label.sk-toggleable__label {background-color: #d4ebff;}#sk-container-id-1 input.sk-hidden--visually {border: 0;clip: rect(1px 1px 1px 1px);clip: rect(1px, 1px, 1px, 1px);height: 1px;margin: -1px;overflow: hidden;padding: 0;position: absolute;width: 1px;}#sk-container-id-1 div.sk-estimator {font-family: monospace;background-color: #f0f8ff;border: 1px dotted black;border-radius: 0.25em;box-sizing: border-box;margin-bottom: 0.5em;}#sk-container-id-1 div.sk-estimator:hover {background-color: #d4ebff;}#sk-container-id-1 div.sk-parallel-item::after {content: \"\";width: 100%;border-bottom: 1px solid gray;flex-grow: 1;}#sk-container-id-1 div.sk-label:hover label.sk-toggleable__label {background-color: #d4ebff;}#sk-container-id-1 div.sk-serial::before {content: \"\";position: absolute;border-left: 1px solid gray;box-sizing: border-box;top: 0;bottom: 0;left: 50%;z-index: 0;}#sk-container-id-1 div.sk-serial {display: flex;flex-direction: column;align-items: center;background-color: white;padding-right: 0.2em;padding-left: 0.2em;position: relative;}#sk-container-id-1 div.sk-item {position: relative;z-index: 1;}#sk-container-id-1 div.sk-parallel {display: flex;align-items: stretch;justify-content: center;background-color: white;position: relative;}#sk-container-id-1 div.sk-item::before, #sk-container-id-1 div.sk-parallel-item::before {content: \"\";position: absolute;border-left: 1px solid gray;box-sizing: border-box;top: 0;bottom: 0;left: 50%;z-index: -1;}#sk-container-id-1 div.sk-parallel-item {display: flex;flex-direction: column;z-index: 1;position: relative;background-color: white;}#sk-container-id-1 div.sk-parallel-item:first-child::after {align-self: flex-end;width: 50%;}#sk-container-id-1 div.sk-parallel-item:last-child::after {align-self: flex-start;width: 50%;}#sk-container-id-1 div.sk-parallel-item:only-child::after {width: 0;}#sk-container-id-1 div.sk-dashed-wrapped {border: 1px dashed gray;margin: 0 0.4em 0.5em 0.4em;box-sizing: border-box;padding-bottom: 0.4em;background-color: white;}#sk-container-id-1 div.sk-label label {font-family: monospace;font-weight: bold;display: inline-block;line-height: 1.2em;}#sk-container-id-1 div.sk-label-container {text-align: center;}#sk-container-id-1 div.sk-container {/* jupyter's `normalize.less` sets `[hidden] { display: none; }` but bootstrap.min.css set `[hidden] { display: none !important; }` so we also need the `!important` here to be able to override the default hidden behavior on the sphinx rendered scikit-learn.org. See: https://github.com/scikit-learn/scikit-learn/issues/21755 */display: inline-block !important;position: relative;}#sk-container-id-1 div.sk-text-repr-fallback {display: none;}</style><div id=\"sk-container-id-1\" class=\"sk-top-container\"><div class=\"sk-text-repr-fallback\"><pre>DecisionTreeClassifier(criterion=&#x27;entropy&#x27;, random_state=42)</pre><b>In a Jupyter environment, please rerun this cell to show the HTML representation or trust the notebook. <br />On GitHub, the HTML representation is unable to render, please try loading this page with nbviewer.org.</b></div><div class=\"sk-container\" hidden><div class=\"sk-item\"><div class=\"sk-estimator sk-toggleable\"><input class=\"sk-toggleable__control sk-hidden--visually\" id=\"sk-estimator-id-1\" type=\"checkbox\" checked><label for=\"sk-estimator-id-1\" class=\"sk-toggleable__label sk-toggleable__label-arrow\">DecisionTreeClassifier</label><div class=\"sk-toggleable__content\"><pre>DecisionTreeClassifier(criterion=&#x27;entropy&#x27;, random_state=42)</pre></div></div></div></div></div>"
      ],
      "text/plain": [
       "DecisionTreeClassifier(criterion='entropy', random_state=42)"
      ]
     },
     "execution_count": 9,
     "metadata": {},
     "output_type": "execute_result"
    }
   ],
   "source": [
    "# Model Training\n",
    "from sklearn.tree import DecisionTreeClassifier\n",
    "\n",
    "# Initialize the Decision Tree Classifier\n",
    "dt_classifier = DecisionTreeClassifier(criterion='entropy', random_state=42)\n",
    "\n",
    "# Train the model\n",
    "dt_classifier.fit(X_train, y_train)"
   ]
  },
  {
   "cell_type": "code",
   "execution_count": 10,
   "id": "0e4cd668-079f-449f-9eb8-55fd2eef6481",
   "metadata": {
    "tags": []
   },
   "outputs": [
    {
     "name": "stdout",
     "output_type": "stream",
     "text": [
      "Training Accuracy: 1.0\n",
      "Testing Accuracy: 0.9970501474926253\n",
      "\n",
      "Classification Report (Testing Set):\n",
      "               precision    recall  f1-score   support\n",
      "\n",
      "       False       1.00      1.00      1.00       255\n",
      "        True       0.99      1.00      0.99        84\n",
      "\n",
      "    accuracy                           1.00       339\n",
      "   macro avg       0.99      1.00      1.00       339\n",
      "weighted avg       1.00      1.00      1.00       339\n",
      "\n"
     ]
    }
   ],
   "source": [
    "# Model Evaluation\n",
    "from sklearn.metrics import accuracy_score, classification_report\n",
    "\n",
    "# Predictions\n",
    "y_pred_train = dt_classifier.predict(X_train)\n",
    "y_pred_test = dt_classifier.predict(X_test)\n",
    "\n",
    "# Evaluation\n",
    "print(\"Training Accuracy:\", accuracy_score(y_train, y_pred_train))\n",
    "print(\"Testing Accuracy:\", accuracy_score(y_test, y_pred_test))\n",
    "print(\"\\nClassification Report (Testing Set):\\n\", classification_report(y_test, y_pred_test))\n"
   ]
  },
  {
   "cell_type": "code",
   "execution_count": 11,
   "id": "87aa05c7-3447-430d-ad4f-b16cd3c7f8d3",
   "metadata": {
    "tags": []
   },
   "outputs": [
    {
     "name": "stdout",
     "output_type": "stream",
     "text": [
      "                                        importance\n",
      "smoking_intensity_Non-Smoker              0.989564\n",
      "gross_income_Refused                      0.003514\n",
      "region_Midlands & East Anglia             0.002515\n",
      "highest_qualification_No Qualification    0.001620\n",
      "marital_status_Married                    0.001395\n"
     ]
    }
   ],
   "source": [
    "feature_importances = pd.DataFrame(dt_classifier.feature_importances_,\n",
    "                                   index = X_train.columns,\n",
    "                                   columns=['importance']).sort_values('importance', ascending=False)\n",
    "\n",
    "print(feature_importances.head())  # Adjust as needed to view more features\n"
   ]
  }
 ],
 "metadata": {
  "kernelspec": {
   "display_name": "Python 3 (ipykernel)",
   "language": "python",
   "name": "python3"
  },
  "language_info": {
   "codemirror_mode": {
    "name": "ipython",
    "version": 3
   },
   "file_extension": ".py",
   "mimetype": "text/x-python",
   "name": "python",
   "nbconvert_exporter": "python",
   "pygments_lexer": "ipython3",
   "version": "3.11.5"
  }
 },
 "nbformat": 4,
 "nbformat_minor": 5
}
